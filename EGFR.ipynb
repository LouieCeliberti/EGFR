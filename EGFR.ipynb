{
 "cells": [
  {
   "cell_type": "code",
   "execution_count": 13,
   "metadata": {},
   "outputs": [],
   "source": [
    "import cmath"
   ]
  },
  {
   "cell_type": "code",
   "execution_count": 14,
   "metadata": {},
   "outputs": [],
   "source": [
    "serum_Creatinine = float(input(\"Enter your current creatinine: \"))\n",
    "age = float(input(\"Enter your current age: \"))\n",
    "gender = input(\"Female or Male?\")\n",
    "lb_weight = float(input(\"How many pounds do you weigh?\"))\n",
    "kg_weight = float(lb_weight/2.2)"
   ]
  },
  {
   "cell_type": "code",
   "execution_count": 15,
   "metadata": {},
   "outputs": [],
   "source": [
    "def EGFR():\n",
    "    if gender == \"Female\":\n",
    "        egfr_Formula = ((140 - age)*kg_weight)/(72*serum_Creatinine)\n",
    "        female_gfr = egfr_Formula * 0.85\n",
    "        print(\"Your current EGFR is: %d ml/min\", female_gfr)\n",
    "    else:\n",
    "         egfr_Formula = ((140 - age)*kg_weight)/(72*serum_Creatinine)\n",
    "         male_gfr = egfr_Formula\n",
    "         print(\"Your current EGFR is: %d ml/min\", male_gfr)"
   ]
  },
  {
   "cell_type": "code",
   "execution_count": 16,
   "metadata": {},
   "outputs": [
    {
     "name": "stdout",
     "output_type": "stream",
     "text": [
      "Your current EGFR is: %d ml/min 48.57000234907212\n"
     ]
    }
   ],
   "source": [
    "EGFR()"
   ]
  }
 ],
 "metadata": {
  "kernelspec": {
   "display_name": "Python 3",
   "language": "python",
   "name": "python3"
  },
  "language_info": {
   "codemirror_mode": {
    "name": "ipython",
    "version": 3
   },
   "file_extension": ".py",
   "mimetype": "text/x-python",
   "name": "python",
   "nbconvert_exporter": "python",
   "pygments_lexer": "ipython3",
   "version": "3.9.10"
  },
  "orig_nbformat": 4,
  "vscode": {
   "interpreter": {
    "hash": "aee8b7b246df8f9039afb4144a1f6fd8d2ca17a180786b69acc140d282b71a49"
   }
  }
 },
 "nbformat": 4,
 "nbformat_minor": 2
}
