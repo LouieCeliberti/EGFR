{
 "cells": [
  {
   "cell_type": "markdown",
   "metadata": {},
   "source": [
    "This file will allow the user to calculate their Estimated Glomerulus Filration Rate to see their Kidney Function\n",
    "\n",
    "\n",
    "Lower GFR estimate = 141 × min (Scr /k, 1)^a × max(Scr /k, 1)^-1.209 × 0.993^Age × 1.018 [if female] where k is 61.9 for females and 79.6 for males, a is -0.329 for females and -0.411 for males\n",
    "\n",
    "if gender == \"Female\":\n",
    "        k = 61.9\n",
    "        a = -0.329\n",
    "    else:\n",
    "        k = 79.6\n",
    "        a = -0.411\n",
    "    egfr_Formula = 141 * min(serum_Creatinine/k, 1)*sqrt(a) * max(serum_Creatinine/k, 1)*sqrt(-1.209)*0.993*sqrt(age)\n",
    "    if"
   ]
  },
  {
   "cell_type": "code",
   "execution_count": 33,
   "metadata": {},
   "outputs": [],
   "source": [
    "import cmath"
   ]
  },
  {
   "cell_type": "code",
   "execution_count": 34,
   "metadata": {},
   "outputs": [],
   "source": [
    "serum_Creatinine = float(input(\"Enter your current creatinine: \"))\n",
    "age = float(input(\"Enter your current age: \"))\n",
    "gender = input(\"Female or Male?\")"
   ]
  },
  {
   "cell_type": "code",
   "execution_count": 35,
   "metadata": {},
   "outputs": [],
   "source": [
    "def EGFR():\n",
    "    if gender == \"Female\":\n",
    "         k = 61.9\n",
    "         a = -0.329\n",
    "         egfr_Formula = (141 * min(serum_Creatinine/k, 1)*cmath.sqrt(a)) * (max(serum_Creatinine/k, 1)*cmath.sqrt(-1.209)*0.993*cmath.sqrt(age))\n",
    "         female_gfr = egfr_Formula * 1.018\n",
    "         print(\"Your current EGFR is: %d ml/min\", female_gfr)\n",
    "    else:\n",
    "         k = 79.6\n",
    "         a = -0.411\n",
    "         egfr_Formula = (141 * min(serum_Creatinine/k, 1)*cmath.sqrt(a)) * (max(serum_Creatinine/k, 1)*cmath.sqrt(-1.209)*0.993*cmath.sqrt(age))\n",
    "         male_gfr = egfr_Formula\n",
    "         print(\"Your current EGFR is: %d ml/min\", male_gfr)\n"
   ]
  },
  {
   "cell_type": "code",
   "execution_count": 36,
   "metadata": {},
   "outputs": [
    {
     "name": "stdout",
     "output_type": "stream",
     "text": [
      "Your current EGFR is: %d ml/min (-13.693549773736539+0j)\n"
     ]
    }
   ],
   "source": [
    "EGFR()"
   ]
  }
 ],
 "metadata": {
  "interpreter": {
   "hash": "aee8b7b246df8f9039afb4144a1f6fd8d2ca17a180786b69acc140d282b71a49"
  },
  "kernelspec": {
   "display_name": "Python 3.9.10 64-bit",
   "language": "python",
   "name": "python3"
  },
  "language_info": {
   "codemirror_mode": {
    "name": "ipython",
    "version": 3
   },
   "file_extension": ".py",
   "mimetype": "text/x-python",
   "name": "python",
   "nbconvert_exporter": "python",
   "pygments_lexer": "ipython3",
   "version": "3.9.10"
  },
  "orig_nbformat": 4
 },
 "nbformat": 4,
 "nbformat_minor": 2
}
